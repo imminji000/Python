{
 "cells": [
  {
   "cell_type": "code",
   "execution_count": null,
   "metadata": {},
   "outputs": [
    {
     "ename": "",
     "evalue": "",
     "output_type": "error",
     "traceback": [
      "\u001b[1;31mRunning cells with 'c:\\Users\\java1\\AppData\\Local\\Programs\\Python\\Python311\\python.exe' requires ipykernel package.\n",
      "\u001b[1;31mRun the following command to install 'ipykernel' into the Python environment. \n",
      "\u001b[1;31mCommand: 'c:/Users/java1/AppData/Local/Programs/Python/Python311/python.exe -m pip install ipykernel -U --user --force-reinstall'"
     ]
    }
   ],
   "source": [
    "\"\"\"\n",
    "날짜 : 2023/01/09\n",
    "이름 : 임민지\n",
    "내용 : 파이썬 리스트 실습하기\n",
    "\"\"\""
   ]
  },
  {
   "cell_type": "code",
   "execution_count": 2,
   "metadata": {},
   "outputs": [
    {
     "name": "stdout",
     "output_type": "stream",
     "text": [
      "list1 type : <class 'type'>\n",
      "list1[0] : 1\n",
      "list1[2] : 3\n",
      "list1[3] : 4\n"
     ]
    }
   ],
   "source": [
    "# 리스트\n",
    "list1 = [1,2,3,4,5]\n",
    "\n",
    "print('list1 type :', type(list))\n",
    "print('list1[0] :', list1[0])\n",
    "print('list1[2] :', list1[2])\n",
    "print('list1[3] :', list1[3])\n",
    "\n",
    "\n",
    "\n"
   ]
  },
  {
   "cell_type": "code",
   "execution_count": 3,
   "metadata": {},
   "outputs": [
    {
     "name": "stdout",
     "output_type": "stream",
     "text": [
      "list2 type : <class 'list'>\n",
      "list2[0] : 1\n",
      "list3[2] : True\n",
      "list1[3] : 4\n"
     ]
    }
   ],
   "source": [
    "# 다양한 자료형을 갖는 리스트\n",
    "list2 = [1, 3014, True, 'Apple']\n",
    "print('list2 type :', type(list2))\n",
    "print('list2[0] :', list2[0])\n",
    "print('list3[2] :', list2[2])\n",
    "print('list1[3] :', list1[3])\n"
   ]
  },
  {
   "cell_type": "code",
   "execution_count": null,
   "metadata": {},
   "outputs": [
    {
     "ename": "",
     "evalue": "",
     "output_type": "error",
     "traceback": [
      "\u001b[1;31mRunning cells with 'c:\\Users\\java1\\AppData\\Local\\Programs\\Python\\Python311\\python.exe' requires ipykernel package.\n",
      "\u001b[1;31mRun the following command to install 'ipykernel' into the Python environment. \n",
      "\u001b[1;31mCommand: 'c:/Users/java1/AppData/Local/Programs/Python/Python311/python.exe -m pip install ipykernel -U --user --force-reinstall'"
     ]
    }
   ],
   "source": [
    "# 다차원 리스트\n",
    "dataset = [[1, 2, 3], \n",
    "           [4, 5, 6], \n",
    "           [7, 8, 9]] \n",
    "\n",
    "print('dataset[0][0] :', dataset[0][0])\n",
    "print('dataset[1][0] :', dataset[1][0])\n",
    "print('dataset[2][1] :', dataset[2][1])"
   ]
  },
  {
   "cell_type": "code",
   "execution_count": null,
   "metadata": {},
   "outputs": [
    {
     "ename": "",
     "evalue": "",
     "output_type": "error",
     "traceback": [
      "\u001b[1;31mRunning cells with 'c:\\Users\\java1\\AppData\\Local\\Programs\\Python\\Python311\\python.exe' requires ipykernel package.\n",
      "\u001b[1;31mRun the following command to install 'ipykernel' into the Python environment. \n",
      "\u001b[1;31mCommand: 'c:/Users/java1/AppData/Local/Programs/Python/Python311/python.exe -m pip install ipykernel -U --user --force-reinstall'"
     ]
    }
   ],
   "source": [
    "# 리스트 수정, 추가, 삭제\n",
    "dataset = [1,2,3,4,5]\n",
    "\n",
    "dataset[1] = 6\n",
    "print('dataset : ', dataset)\n",
    "\n",
    "dataset[2:4] = [7,8,9]\n",
    "print('dataset : ', dataset)\n",
    "\n",
    "dataset[3:5] = []\n",
    "print('dataset : ', dataset)"
   ]
  },
  {
   "cell_type": "code",
   "execution_count": null,
   "metadata": {},
   "outputs": [
    {
     "ename": "",
     "evalue": "",
     "output_type": "error",
     "traceback": [
      "\u001b[1;31mRunning cells with 'c:\\Users\\java1\\AppData\\Local\\Programs\\Python\\Python311\\python.exe' requires ipykernel package.\n",
      "\u001b[1;31mRun the following command to install 'ipykernel' into the Python environment. \n",
      "\u001b[1;31mCommand: 'c:/Users/java1/AppData/Local/Programs/Python/Python311/python.exe -m pip install ipykernel -U --user --force-reinstall'"
     ]
    }
   ],
   "source": [
    "#리스트 반복문\n",
    "for i in [1,2,3,4,5]:\n",
    "    print('i :', i)\n",
    "\n",
    "    cities = ['서울', '대전', '대구', '부산', '광주']\n",
    "    for city in cities:\n",
    "        print('city :', city)\n",
    "    \n",
    "    for index, value in enumerate(cities):\n",
    "        print('cities[%d] : %s' % (index, value))"
   ]
  },
  {
   "cell_type": "code",
   "execution_count": null,
   "metadata": {},
   "outputs": [],
   "source": [
    "# 리스트 comprehesion\n",
    "data = [1,2,3,4,5]\n",
    "\n",
    "rs1 = [num * 2 for num in data]\n",
    "rs2 = [num * 3 for num in data if num % 2 == 1]\n",
    "\n",
    "print('rs1 : ', rs1)\n",
    "print('rs2 : ', rs2)"
   ]
  }
 ],
 "metadata": {
  "kernelspec": {
   "display_name": "Python 3",
   "language": "python",
   "name": "python3"
  },
  "language_info": {
   "codemirror_mode": {
    "name": "ipython",
    "version": 3
   },
   "file_extension": ".py",
   "mimetype": "text/x-python",
   "name": "python",
   "nbconvert_exporter": "python",
   "pygments_lexer": "ipython3",
   "version": "3.11.1"
  },
  "orig_nbformat": 4,
  "vscode": {
   "interpreter": {
    "hash": "ca3167030a8377a7b82d5e665b459d458267ba920e721652be188ae573e682bb"
   }
  }
 },
 "nbformat": 4,
 "nbformat_minor": 2
}
